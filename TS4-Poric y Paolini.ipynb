{
 "cells": [
  {
   "cell_type": "markdown",
   "id": "c02ea1b4-4d37-4561-925e-e73ad51e75f8",
   "metadata": {},
   "source": [
    "<img src=\"./logo_UNSAM.jpg\" align=\"right\" width=\"150\" /> \n",
    "\n",
    "#### Análisis y Procesamiento de Señales\n",
    "\n",
    "# Trabajo Práctico Nº4: Primeras nociones de estimación espectral\n",
    "#### María Victoria Poric y Agustina Paolini Rosso"
   ]
  },
  {
   "cell_type": "markdown",
   "id": "911dc33e-033e-4277-b4e3-1e53c956f4df",
   "metadata": {},
   "source": [
    "## Introducción teórica"
   ]
  },
  {
   "cell_type": "markdown",
   "id": "12eda0b3-3a80-4b9e-9ecc-d50cfc00bf25",
   "metadata": {},
   "source": [
    "En el procesamiento digital de señales, uno de los problemas fundamentales es la estimación de parámetros de una sinusoide inmersa en Ruido Aditivo Blanco Gaussiano (AWGN). Este problema aparece de manera recurrente en campos como las comunicaciones digitales, los sistemas de radar, la espectroscopía, el análisis de vibraciones mecánicas y los sistemas de medida eléctricos, ya que en todos ellos la información esencial suele estar contenida en una señal sinusoidal o en una combinación de sinusoides perturbadas por ruido.\n",
    "\n",
    "La señal de interés puede modelarse como: $$x[n] = a_0 \\cdot \\sin (\\Omega_1 \\cdot n + \\phi) + n_a[n] \\tag{1}$$ donde $a_0$ representa la amplitud de la senoidal, $\\Omega_1$ es su frecuencia angular(en rad/muestra), $\\phi$ la fase incial y $n_a[n]$ es el Ruido Aditivo Gaussiano Blanco(AWGN) que sigue la distribución de probabilidad $$n_a[n]\\sim N(0,\\sigma^2)$$\n",
    "\n",
    "En este caso se define: \n",
    "-$\\Omega_1 = \\Omega_0 + f_r \\cdot \\frac{2\\pi}{N}$\n",
    "-$\\Omega_0 = \\frac{f_s}{4}$\n",
    "-$f_r \\sim U(-2,2)$\n",
    "\n",
    "La relación señal-ruido (SNR) se define como: $$\\text{SNR} = 10 \\log{10}(\\frac{\\text{Pseñal}}{\\text{Pruido}})$$ donde la potencia de la senoidal es: $$\\text{Pseñal}=\\frac{a_0^2}{2}\\tag{2}$$ y la potencia del ruido corresponde a: $$\\text{Pruido} = \\sigma^2$$. \n",
    "\n",
    "En este trabajo, la amplitud se calibra a $a_0=\\sqrt(2)$, de modo que $\\text{Señal} = 1W$. Esto permite ajustar directamente la potencia del ruido en función de la SNR deseada, explorando distintos escenarios de ruido como '3dB', un entorno altamente ruidoso, y '10 dB', un entorno moderadamente ruidoso.\n",
    "\n",
    "Tal como se explicó, en la práctica nunca se dispone de la señal pura tal como la describe el modelo matemático, sino de una versión afectada por ruido e incertidumbre. Esto implica que los parámetros que definen la señal (como amplitud, frecuencia o fase) no pueden conocerse de forma exacta, sino únicamente a través de muestras finitas y observaciones imperfectas. Aquí surge la necesidad de la estimación: a partir de los datos observados se busca obtener aproximaciones de los parámetros desconocidos que describen la señal real. De esta forma, estimar se vuelve una herramienta indispensable para poder analizar, procesar o transmitir la señal en contextos prácticos.\n",
    "\n",
    "Así, para estimar los parámetros de la señal, se recurre a la Transformada Discreta de Fourier (DFT) de la señal multiplicada por una ventana de análisis $w[n]$: $$X_w(\\Omega)=\\sum_{n=0}^{N-1} x[n]\\cdot w[n] e^{-j\\Omega n} \\tag{3}$$ \n",
    "\n",
    "Al aplicar la DFT a una señal limitada en el tiempo, lo que realmente se está calculando es la transformada de la señal multiplicada por una ventana rectangular. Esta operación equivale, en frecuencia, a una convolución con la transformada de dicha ventana, lo que provoca el fenómeno de fuga espectral (spectral leakage): la energía de una frecuencia pura se dispersa en varios bins en lugar de concentrarse en uno solo.\n",
    "\n",
    "Para mitigar este efecto y mejorar la precisión de la estimación de parámetros, se emplean diferentes funciones ventana $w[n]$, como las de Hamming, Hanning, Blackman-Harris o Flattop, que atenúan los lóbulos laterales a costa de ensanchar el lóbulo principal. La elección de la ventana constituye entonces un compromiso entre resolución en frecuencia y reducción de la fuga espectral.\n",
    "\n",
    "De este modo, el ventaneo no es un detalle secundario, sino una condición necesaria para que la DFT proporcione información confiable sobre la señal inmersa en ruido. Una vez definida la ventana de análisis y obtenida la DFT de la señal ventaneada, se construyen los estimadores de amplitud y frecuencia que permiten cuantificar los parámetros de interés.\n",
    "\n",
    "1) Estimador de amplitud(evaluado en la frecuencia nominal $\\Omega_0$): $$\\hat{a}_1 = |X_{iw}(\\Omega_0)| \\tag{4}$$\n",
    "2) Estimador de frecuencia(máximo del espectro): $$\\hat{\\Omega}_1 = \\text{argmax} {|X_{iw}(\\Omega)|}\\tag{5}$$\n",
    "\n",
    "El desempeño de los estimadores se cuantifica mediante sus sesgo y varianza: \n",
    "\n",
    "-Sesgo: mide el error sistemático respecto al verdadero valor: $$s_a = E[\\hat{a}_1]-a_0$$ $$s_{\\Omega} = E[\\hat{\\Omega}_1]-\\Omega_1$$\n",
    "-Varianza: mide la dispersión de las estimaciones alrededor de su media: $$v_a = E[\\hat{a}_1 - E[\\hat{a}_1])^2]$$ $$v_{\\Omega} = E[\\hat{\\Omega}_1 - E[\\hat{\\Omega}_1])^2]$$\n",
    "\n",
    "En la práctica, dado un número finito M de realizaciones, se aproximan mediante promedios muestreales: $$\\mu_{\\hat{a}}=\\frac{1}{M} \\sum_{j=0}^{M-1} \\hat{a}_j$$ $$s_a \\approx \\mu_{\\hat{a}}-a_0 \\tag{6}$$ $$v_a \\approx \\frac{1}{M} \\sum_{j=0}^{M-1} (\\hat{a}_j-\\mu_{\\hat{a}})^2 \\tag{7}$$\n",
    "y análogamente para la frecuencia.\n",
    "\n",
    "Como se explicó, la elección de la ventana $w[n]$ es crucial, ya que determina:\n",
    "-Ancho del lóbulo principal → afecta la resolución en frecuencia.\n",
    "\n",
    "-Nivel de lóbulos laterales → afecta la precisión de la estimación en presencia de ruido.\n",
    "\n",
    "Se consideran las siguientes ventanas:\n",
    "-Rectangular (equivalente a no ventanear): máxima resolución en frecuencia pero con fuertes lóbulos laterales que provocan fuga espectral.\n",
    "\n",
    "-Flattop: diseñada para minimizar el error en la estimación de amplitud, a costa de un lóbulo principal ancho.\n",
    "\n",
    "-Blackman-Harris: fuerte supresión de lóbulos laterales, útil en entornos ruidosos.\n",
    "\n",
    "-Hamming/Hanning: ofrecen un compromiso entre resolución espectral y supresión de lóbulos.\n",
    "\n",
    "Cada ventana presenta ventajas y desventajas según el parámetro que se quiera estimar con mayor precisión.\n",
    "\n",
    "Además de los estimadores básicos, existen técnicas de mejora en la estimación que buscan reducir el sesgo y la varianza:\n",
    "\n",
    "1) Zero-padding: consiste en extender la señal original con ceros antes de la FFT. Esto no aumenta la información real, pero interpola el espectro, reduciendo el espaciamiento en frecuencia: $$\\Delta f=\\frac{f_s}{N_z} \\quad N_z>N$$ lo que mejora la resolución aparente en la estimación de $\\Omega_1$, permitiendo una localización más precisa de dicha frecuencia.\n",
    "2) Interpolación cuadrática:  refina la estimación de frecuencia en torno al bin máximo, aproximando la curvatura local del espectro. Si $X[k-1]$, $X[k]$, $X[k+1]$ son las magnitudes espectrales vecinas, la corrección se calcula como: $$p=\\frac{1}{2} \\cdot \\frac {|X[k-1]|-|X[k+1]|}{|X[k-1]|-2|X[k]|+|X[k+1]|}$$ Entonces la frecuencia estimada es: $$\\hat{\\Omega}_1=\\frac{f_s}{N}(k+p)\\tag{9}$$\n",
    "3) Estimador alternativo de amplitud: en lugar de usar un único bin, se puede considerar la energía de varios bins alrededor de la frecuencia de interés: $$\\hat{a}_1=\\sqrt{2\\sum_{i=-M}^{M-1} |X[k_0+i]|^2}\\tag{8}$$ lo que reduce los errores causados por la fuga espectral. Con $M$ siendo los bins en el entorno de la frecuencia de interés $k_0$.\n",
    "\n",
    "El objetivo de este trabajo es comparar el sesgo y la varianza de los estimadores de amplitud y frecuencia bajo distintas ventanas de análisis, evaluando cómo se comportan en condiciones de bajo y alto SNR. Asimismo, se busca analizar el impacto de técnicas de mejora como el zero-padding, la interpolación cuadrática y los estimadores alternativos de amplitud, con el fin de evaluar su efectividad en la reducción del error y dispersión.\n",
    "\n",
    "Finalmente, se incluyen representaciones gráficas en forma de histogramas para visualizar la distribución de las estimaciones de amplitud bajo diferentes ventanas, lo cual permite comprender no solo el valor medio y la varianza, sino también la forma estadística de las mediciones en presencia de ruido."
   ]
  },
  {
   "cell_type": "markdown",
   "id": "881a9c74-8afe-40a6-a2de-703c844f4fc4",
   "metadata": {},
   "source": [
    "## Análisis y resultados"
   ]
  },
  {
   "cell_type": "code",
   "execution_count": 2,
   "id": "2e9d048e-0707-4bba-a0f7-2d548536c24d",
   "metadata": {},
   "outputs": [],
   "source": [
    "import numpy as np\n",
    "from numpy.fft import fft\n",
    "import matplotlib.pyplot as plt\n",
    "from scipy.signal import get_window\n",
    "\n",
    "\n",
    "# ==============================\n",
    "# Parámetros generales\n",
    "# ==============================\n",
    "fs = 1000 # Hz\n",
    "nn = fs # muestras\n",
    "realizaciones = 200\n",
    "a0 = np.sqrt(2) # amplitud calibrada (potencia de 1 W)\n",
    "snrs = [3, 10] # SNRs en dB a analizar\n",
    "fr = np.random.uniform(-2, 2, realizaciones) # vector de frecuencias aleatorias"
   ]
  },
  {
   "cell_type": "markdown",
   "id": "119241b6-5416-4a30-b095-a227eeebb0bf",
   "metadata": {},
   "source": [
    "En primer lugar, se declararon los parámetros generales a utilizar, con una frecuencia de muestreo de $fs=1000 Hz$ y un total de $nn=1000$ muestras, lo que implica que cada realización de la señal corresponde a un segundo de duración. Se establecen 200 realizaciones para poder hacer un análisis estadístico, ya que un único experimento no basta para caracterizar sesgo y varianza. Se usó una amplitud de $\\sqrt{2}$ para obtener una potencia unitaria  de la señal senoidal (2). Asimismo, *fr* representa la variable aleatoria de la distribución uniforme, generando un vector de frecuencias aleatorias para introducir variabilidad y simular que la frecuencia no siempre es exactamente la misma.\n",
    "\n",
    "También se definen dos valores de relación señal-ruido (SNR): 3 dB y 10 dB. Esto introduce la dimensión del ruido blanco gaussiano, con distintas intensidades. Un SNR bajo (3 dB) significa que la señal y el ruido tienen potencias comparables, por lo que la estimación será mucho más difícil, mientras que un SNR más alto (10 dB) supone una señal más \"limpia\". "
   ]
  },
  {
   "cell_type": "code",
   "execution_count": 5,
   "id": "6b337197-acc2-43f2-a064-99d96ac5475e",
   "metadata": {},
   "outputs": [],
   "source": [
    "# ==============================\n",
    "# Ventanas a analizar\n",
    "# ==============================\n",
    "ventanas = {\n",
    "    \"Rectangular\": np.ones(nn),\n",
    "    \"Flattop\": get_window(\"flattop\", nn),\n",
    "    \"Blackman-Harris\": get_window(\"blackmanharris\", nn),\n",
    "    \"Hamming\": get_window(\"hamming\", nn)\n",
    "}"
   ]
  },
  {
   "cell_type": "markdown",
   "id": "339c6231-abbf-492c-a9a6-63585d4ce4c0",
   "metadata": {},
   "source": [
    "Lo que es más, se definieron las ventanas a utilizar, estas son cruciales en el análisis espectral para mitigar el efecto de fuga espectral. Cada ventana tiene propiedades distintas respecto al ensanchamiento del lóbulo principal y la supresión de lóbulos laterales en el espectro, como se mencionó previamente. En primer lugar está la rectangular, que tiene el lóbulo principal más estrecho pero los lóbulos laterales más altos, es decir, que tiene una peor atenuación en la banda de rechazo. Mientras que ventanas como la Flattop o Blackman-Harris tienen lóbulos principales más anchos pero lóbulos laterales mucho más atenuados, lo cual es útil para la estimación de amplitud. "
   ]
  },
  {
   "cell_type": "code",
   "execution_count": 13,
   "id": "4f7c0ae0-490b-4c87-abea-d71efbad14b8",
   "metadata": {},
   "outputs": [
    {
     "name": "stdout",
     "output_type": "stream",
     "text": [
      "\n",
      "\n",
      "========== Resultados para SNR = 3 dB ==========\n",
      "\n",
      "--- Estimación de Amplitud ---\n",
      "Ventana\t\tSesgo (sa)\tVarianza (va)\n",
      "Rectangular    \t-1.1771e+00\t 4.4239e-02\n",
      "Flattop        \t-1.2770e+00\t 3.0826e-04\n",
      "Blackman-Harris\t-1.2577e+00\t 4.5690e-03\n",
      "Hamming        \t-1.2537e+00\t 1.7445e-02\n",
      "\n",
      "--- Estimación de Frecuencia ---\n",
      "Ventana\t\tSesgo (sΩ)\tVarianza (vΩ)\n",
      "Rectangular    \t 9.9805e+01\t 3.9991e+04\n",
      "Flattop        \t 7.9930e+01\t 3.3643e+04\n",
      "Blackman-Harris\t 9.9790e+01\t 3.9979e+04\n",
      "Hamming        \t 9.2380e+01\t 3.7698e+04\n",
      "\n",
      "\n",
      "========== Resultados para SNR = 10 dB ==========\n",
      "\n",
      "--- Estimación de Amplitud ---\n",
      "Ventana\t\tSesgo (sa)\tVarianza (va)\n",
      "Rectangular    \t-1.1798e+00\t 4.4134e-02\n",
      "Flattop        \t-1.2770e+00\t 2.8310e-04\n",
      "Blackman-Harris\t-1.2577e+00\t 4.4778e-03\n",
      "Hamming        \t-1.2549e+00\t 1.7501e-02\n",
      "\n",
      "--- Estimación de Frecuencia ---\n",
      "Ventana\t\tSesgo (sΩ)\tVarianza (vΩ)\n",
      "Rectangular    \t 5.2385e+01\t 2.3492e+04\n",
      "Flattop        \t 6.7405e+01\t 2.9198e+04\n",
      "Blackman-Harris\t 6.7390e+01\t 2.9205e+04\n",
      "Hamming        \t 7.7330e+01\t 3.2732e+04\n"
     ]
    }
   ],
   "source": [
    "# ==============================\n",
    "# Loop sobre SNRs\n",
    "# ==============================\n",
    "for snr in snrs:\n",
    "    print(f\"\\n\\n========== Resultados para SNR = {snr} dB ==========\")\n",
    "\n",
    "    # Cálculo de potencia de ruido para este SNR\n",
    "    pot_ruido = a0**2 / (2*10**(snr/10))\n",
    "    sigma_ruido = np.sqrt(pot_ruido)\n",
    "\n",
    "    # ==============================\n",
    "    # Construcción de realizaciones\n",
    "    # ==============================\n",
    "    tt = np.arange(nn).reshape(-1,1) / fs # eje de tiempo\n",
    "    fr_mat = np.tile(fr, (nn, 1)) # (nn x realizaciones)\n",
    "    xx_mat = a0 * np.sin(2*np.pi*((nn/4)+fr_mat)*(fs/nn)*tt) # matriz senoidales\n",
    "    ruido_mat = np.random.normal(0, sigma_ruido, (nn, realizaciones))\n",
    "    xx_mat_ruido = xx_mat + ruido_mat # señales con ruido\n",
    "    \n",
    "    # ==============================\n",
    "    # Estimadores para cada ventana\n",
    "    # ==============================\n",
    "    resultados_amp = {}\n",
    "    resultados_freq = {}\n",
    "    \n",
    "    for nombre, win in ventanas.items():\n",
    "        # Aplicar ventana\n",
    "        win = win.reshape(-1,1)\n",
    "        xx_win = xx_mat_ruido * win\n",
    "        \n",
    "        # FFT normalizada\n",
    "        X_win = (1/nn) * fft(xx_win, axis=0)\n",
    "\n",
    "        # --------------------------\n",
    "        # Estimador de amplitud a1\n",
    "        # --------------------------\n",
    "        estim_amp = np.abs(X_win[nn//4,:]) # valor en frecuencia N/4\n",
    "        mu_amp = np.mean(estim_amp)\n",
    "        sa = mu_amp - a0\n",
    "        va = np.var(estim_amp)\n",
    "        resultados_amp[nombre] = (sa, va)\n",
    "        \n",
    "        # --------------------------\n",
    "        # Estimador de frecuencia Ω1\n",
    "        # --------------------------\n",
    "        espectro = np.abs(X_win)\n",
    "        estim_freq_idx = np.argmax(espectro, axis=0) # índices máximos\n",
    "        estim_freq = estim_freq_idx * (fs/nn) # en Hz\n",
    "        mu_freq = np.mean(estim_freq)\n",
    "        sa_f = mu_freq - fs/4 # sesgo respecto a Ω0\n",
    "        va_f = np.var(estim_freq)\n",
    "        resultados_freq[nombre] = (sa_f, va_f)\n",
    "    \n",
    "    # ==============================\n",
    "    # Mostrar resultados en tablas\n",
    "    # ==============================\n",
    "    print(\"\\n--- Estimación de Amplitud ---\")\n",
    "    print(\"Ventana\\t\\tSesgo (sa)\\tVarianza (va)\")\n",
    "    for nombre, (sa, va) in resultados_amp.items():\n",
    "        print(f\"{nombre:15s}\\t{sa: .4e}\\t{va: .4e}\")\n",
    "    \n",
    "    print(\"\\n--- Estimación de Frecuencia ---\")\n",
    "    print(\"Ventana\\t\\tSesgo (sΩ)\\tVarianza (vΩ)\")\n",
    "    for nombre, (sa, va) in resultados_freq.items():\n",
    "        print(f\"{nombre:15s}\\t{sa: .4e}\\t{va: .4e}\")"
   ]
  },
  {
   "cell_type": "markdown",
   "id": "50a6efaf-3ac1-4175-9565-1fbd6336f90b",
   "metadata": {},
   "source": [
    "Para la generación de la señal y ruido se crea un ciclo *for*. En primer lugar, se calcula la potencia del ruido utilizando la potencia de la señal($1W$) y el valor de SNR en dB. Luego se obtiene la desviación estándar del ruido, y se guarda ese valor en la variable *sigma_ruido*. \n",
    "\n",
    "Luego en el módulo de *Construcción de realizaciones* se construye la matriz de señales senoidales(*xx_mat*) donde cada columna es una realización, es decir, una señal senoidal distinta con la misma amplitud pero frecuencias perturbadas por el término aleatorio. También, separadamente, se genera una matriz de ruido gaussiano de varianza ajustada según el SNR deseado y finalmente se genera la señal finita ruidosa que es una suma de ambas señales *xx_mat_ruido*, consistente con su definición en (1).\n",
    "\n",
    "A continuación, cada ventana se aplica al conjunto de realizaciones, es decir, a la matriz ruidosa, y se calcula la FFT normalizada según (3)."
   ]
  },
  {
   "cell_type": "markdown",
   "id": "747c3d67-ea17-4290-a667-fe33e9255158",
   "metadata": {},
   "source": [
    "La amplitud se toma como el valor absoluto del espectro en el índice correspondiente a la frecuencia de interés (N/4) según (4), y la frecuencia se estima como el índice donde la FFT alcanza su valor máximo (5). \n",
    "\n",
    "A partir de las *200* realizaciones, se calcularon las estimaciones de sesgo y varianza mediante promedios muestrales según (6) y (7) para la amplitud (y análogamente para la frecuencia), lo que constituye una aproximación a las definiciones teóricas de estos parámetros. Teóricamente, cuanto más fuerte es el ruido o más \"inadecuada\" la ventana para el tipo de señal, mayor será el sesgo y la varianza.\n",
    "\n",
    "En las tablas obtenidas, en lo que respecta a la estimación de amplitud, se observa que todas las ventanas presentan un sesgo negativo considerable, es decir, las amplitudes estimadas son menores que el valor real $a_0=\\sqrt{2}$. Este comportamiento es esperado desde el punto de vista teórico, dado que la aplicación de una ventana implica multiplicar la señal en el dominio temporal por una función que atenúa las muestras en los extremos, lo que equivale a una pérdida de energía espectral y, por ende, a una reducción en el valor máximo de la DFT. \n",
    "\n",
    "Entre las ventanas analizadas, la Flattop se destaca por presentar la varianza más baja, lo que significa que sus estimaciones son muy estables entre realizaciones. Este resultado concuerda con la teoría: la ventana Flattop fue diseñada específicamente para minimizar los errores en la estimación de amplitud a costa de un ancho de lóbulo principal mayor. No obstante, su sesgo sigue siendo pronunciado, lo cual es una consecuencia de la dispersión de la energía espectral hacia lóbulos laterales más pequeños pero más extendidos.\n",
    "\n",
    "La ventana rectangular, en cambio, conserva mejor la amplitud nominal de la señal en ausencia de ruido, pero bajo condiciones de SNR moderado sufre una fuerte varianza en las estimaciones, producto de la fuga espectral y de su baja capacidad para suprimir el ruido fuera de banda. Las ventanas Blackman-Harris y Hamming se ubican en un punto intermedio: presentan sesgos similares a los de Flattop, pero con varianzas algo mayores, reflejando un compromiso entre estabilidad y precisión de la estimación.\n",
    "En cuanto a la estimación de frecuencia, los resultados muestran sesgos muy grandes, del orden de decenas a centenas de hertz, acompañados de varianzas elevadas. Esto se explica teóricamente por la limitada resolución espectral de la FFT: al utilizar $N=1000$ muestras y una frecuencia de muestreo de $fs=1000 Hz$, la separación entre bins espectrales es de $fs/N=1 Hz$, pero la presencia de ruido y el ensanchamiento del lóbulo principal de la ventana hacen que el máximo no se localice exactamente en el bin correspondiente a la frecuencia de la señal, sino en un índice desplazado.\n",
    "El hecho de que el sesgo y la varianza no se reduzcan significativamente al pasar de 3 dB a 10 dB de SNR confirma que el error dominante no proviene del ruido, sino de la limitación inherente a la forma espectral de la ventana y a la resolución discreta de la FFT. Entre las ventanas, la Blackman-Harris es la que presenta los sesgos y varianzas más elevados, lo cual es consistente con su mayor ancho de lóbulo principal: aunque reduce fuertemente los lóbulos laterales y por ende mejora la supresión del ruido fuera de banda, sacrifica la resolución en frecuencia, degradando la precisión del estimador. La ventana rectangular, en cambio, tiene un lóbulo principal más angosto y por lo tanto ofrece mejor resolución, pero a costa de mayor sensibilidad al ruido y fuga espectral, lo que se traduce en varianzas también elevadas. Hamming y Flattop se comportan de manera intermedia."
   ]
  },
  {
   "cell_type": "code",
   "execution_count": 8,
   "id": "d452a21b-1b9f-4795-bf10-f62f9dc7535d",
   "metadata": {},
   "outputs": [
    {
     "data": {
      "image/png": "[encoded data removed]",
      "text/plain": [
       "<Figure size 1000x500 with 1 Axes>"
      ]
     },
     "metadata": {},
     "output_type": "display_data"
    },
    {
     "name": "stdout",
     "output_type": "stream",
     "text": [
      "\n",
      "--- BONUS: Zero-Padding en Frecuencia ---\n",
      "Ventana\t\tSesgo (sa)\tVarianza (va)\n",
      "Rectangular    \t 1.0998e+02\t 4.2944e+04\n",
      "Flattop        \t 8.7470e+01\t 3.6136e+04\n",
      "Blackman-Harris\t 9.7519e+01\t 3.9302e+04\n",
      "Hamming        \t 8.9832e+01\t 3.6898e+04\n",
      "\n",
      "--- BONUS: Estimadores Alternativos ---\n",
      "Ventana\t\tSesgo Amp\tVarianza Amp\tSesgo Freq\tVarianza Freq\n",
      "Rectangular    \t-7.9052e-01\t 1.5196e-04\t 9.4927e+01\t 3.8503e+04\n",
      "Flattop        \t-4.4450e-01\t 4.8107e-04\t 5.4869e+01\t 2.4478e+04\n",
      "Blackman-Harris\t-1.0329e+00\t 6.8591e-04\t 8.2430e+01\t 3.4473e+04\n",
      "Hamming        \t-9.2426e-01\t 4.0957e-04\t 8.2260e+01\t 3.4415e+04\n"
     ]
    }
   ],
   "source": [
    "# ==============================\n",
    "# BONUS: comparar histogramas\n",
    "# ==============================\n",
    "plt.figure(figsize=(10,5))\n",
    "for nombre, win in ventanas.items():\n",
    "    win = win.reshape(-1,1)\n",
    "    xx_win = xx_mat_ruido * win\n",
    "    X_win = (1/nn) * fft(xx_win, axis=0)\n",
    "    estim_amp = np.abs(X_win[nn//4,:])\n",
    "    plt.hist(10*np.log10(2*estim_amp**2), bins=15, alpha=0.5, label=nombre)\n",
    "\n",
    "plt.xlabel(\"Amplitud [dB]\")\n",
    "plt.ylabel(\"Cantidad de realizaciones\")\n",
    "plt.title(f\"Comparación de ventanas en frecuencia N/4 ({fs/4:.2f} Hz)\")\n",
    "plt.legend()\n",
    "plt.grid(True)\n",
    "plt.show()\n",
    "\n",
    "# ==============================\n",
    "# BONUS: Zero-padding y Estimadores Alternativos\n",
    "# ==============================\n",
    "resultados_freq_zp = {}\n",
    "resultados_alt = {}\n",
    "\n",
    "zp_factor = 4  # factor de zero-padding\n",
    "\n",
    "for nombre, win in ventanas.items():\n",
    "    win = win.reshape(-1,1)\n",
    "    xx_win = xx_mat_ruido * win\n",
    "\n",
    "    # -------- Zero-padding --------\n",
    "    X_zp = (1/nn) * fft(xx_win, n=zp_factor*nn, axis=0)\n",
    "    espectro_zp = np.abs(X_zp)\n",
    "    estim_freq_idx_zp = np.argmax(espectro_zp, axis=0)\n",
    "    estim_freq_zp = estim_freq_idx_zp * (fs/(zp_factor*nn))\n",
    "    mu_freq_zp = np.mean(estim_freq_zp)\n",
    "    sa_f_zp = mu_freq_zp - fs/4\n",
    "    va_f_zp = np.var(estim_freq_zp)\n",
    "    resultados_freq_zp[nombre] = (sa_f_zp, va_f_zp)\n",
    "\n",
    "    # -------- Estimador alternativo de amplitud --------\n",
    "    vecindad = 2\n",
    "    energia = np.sum(np.abs(X_win[(nn//4-vecindad):(nn//4+vecindad+1),:])**2, axis=0)\n",
    "    estim_amp_alt = np.sqrt(2*energia)\n",
    "    mu_amp_alt = np.mean(estim_amp_alt)\n",
    "    sa_alt = mu_amp_alt - a0\n",
    "    va_alt = np.var(estim_amp_alt)\n",
    "\n",
    "    # -------- Estimador alternativo de frecuencia (interpolación cuadrática) --------\n",
    "    X_win = (1/nn) * fft(xx_win, axis=0)\n",
    "    espectro = np.abs(X_win)\n",
    "    kmax = np.argmax(espectro, axis=0)\n",
    "    alpha = espectro[(kmax-1)%nn, range(realizaciones)]\n",
    "    beta  = espectro[kmax, range(realizaciones)]\n",
    "    gamma = espectro[(kmax+1)%nn, range(realizaciones)]\n",
    "    p = 0.5*(alpha - gamma)/(alpha - 2*beta + gamma + 1e-12)\n",
    "    estim_freq_alt = (kmax + p) * (fs/nn)\n",
    "    mu_freq_alt = np.mean(estim_freq_alt)\n",
    "    sa_f_alt = mu_freq_alt - fs/4\n",
    "    va_f_alt = np.var(estim_freq_alt)\n",
    "\n",
    "    resultados_alt[nombre] = ((sa_alt, va_alt), (sa_f_alt, va_f_alt))\n",
    "\n",
    "\n",
    "# ==============================\n",
    "# Mostrar resultados de Bonus\n",
    "# ==============================\n",
    "print(\"\\n--- BONUS: Zero-Padding en Frecuencia ---\")\n",
    "print(\"Ventana\\t\\tSesgo (sa)\\tVarianza (va)\")\n",
    "for nombre, (sa, va) in resultados_freq_zp.items():\n",
    "    print(f\"{nombre:15s}\\t{sa: .4e}\\t{va: .4e}\")\n",
    "\n",
    "print(\"\\n--- BONUS: Estimadores Alternativos ---\")\n",
    "print(\"Ventana\\t\\tSesgo Amp\\tVarianza Amp\\tSesgo Freq\\tVarianza Freq\")\n",
    "for nombre, ((sa_a, va_a), (sa_f, va_f)) in resultados_alt.items():\n",
    "    print(f\"{nombre:15s}\\t{sa_a: .4e}\\t{va_a: .4e}\\t{sa_f: .4e}\\t{va_f: .4e}\")"
   ]
  },
  {
   "cell_type": "markdown",
   "id": "7740a0f4-600b-4b70-94a9-55498528d678",
   "metadata": {},
   "source": [
    "Luego, se emplearon dos técnicas adicionales: primero, el zero-padding, que permite estimar la frecuencia de forma más precisa, ya que el máximo espectral no queda limitado a múltiplos de $fs/N$.\n",
    "\n",
    "Los resultados del zero-padding corroboran las limitaciones de las ventanas utilizadas. El zero-padding incrementa el número de puntos de la FFT, proporcionando una interpolación más fina del espectro y permitiendo localizar con mayor detalle el máximo. Sin embargo, no aumenta la resolución en frecuencia más allá de la determinada por la duración de la señal (teorema de Rayleigh). Por ello, los sesgos y varianzas de la estimación de frecuencia no mejoran sustancialmente: se logra un espectro más suave y continuo, pero los errores de localización persisten en un orden similar.\n",
    "\n",
    "La segunda, los estimadores alternativos. En amplitud, en lugar de tomar un único punto espectral, se calcula la energía en un rango alrededor de la frecuencia de interés (9), lo que reduce el error en presencia de fugas. En frecuencia, se aplica interpolación cuadrática alrededor del máximo espectral (8), lo que suaviza la estimación y corrige el error debido a la discretización de la FFT. Teóricamente, esta interpolación cuadrática se conoce como un método refinado que reduce tanto sesgo como varianza respecto al estimador más simple del índice máximo.\n",
    "\n",
    "El estimador de amplitud logra reducir notablemente el sesgo respecto al cálculo directo, ya que integra parte de la energía distribuida en el lóbulo principal que, en el método clásico, se pierde por tomar únicamente el valor puntual del máximo. Esto se refleja en una subestimación mucho menor y en varianzas muy reducidas, especialmente con la ventana Flattop. En lo que respecta a la frecuencia, la técnica empleada aprovecha la forma parabólica del lóbulo principal de la DFT para estimar la frecuencia en un rango continuo entre bins. Si bien los resultados siguen mostrando sesgos y varianzas elevadas (del orden de decenas de hertz), se trata de una mejora respecto al estimador directo, y confirma la utilidad de los métodos de interpolación espectral en condiciones donde la resolución de la FFT es insuficiente."
   ]
  },
  {
   "cell_type": "markdown",
   "id": "8f1dac66-96dd-4850-95d8-afc8bb2fe675",
   "metadata": {},
   "source": [
    "## Conclusiones"
   ]
  },
  {
   "cell_type": "markdown",
   "id": "3e8c9dac-7fac-45d9-9ff5-b59bd25ef7d4",
   "metadata": {},
   "source": [
    "El trabajo experimental realizado ha caracterizado el rendimiento de los estimadores de amplitud(4) y frecuencia(5) de una señal sinusoidal inmersa en Ruido Aditivo Blanco Gaussiano(AWGN), haciendo uso de la Transformada Rápida de Fourier(FFT) y diversas funciones de ventaneo. \n",
    "\n",
    "La implementación de la DFT de una señal de duración finita requiere el uso de ventanas para mitigar el fenómeno de fuga espectral. Los resultados demostraron que la elección de la ventana es el factor dominante en la precisión de la estimación, evidenciando el compromiso fundamental entre resolución en frecuencia(ancho del lóbulo principal) y superposición de fuga o ruido(nivel de lóbulos laterales). \n",
    "\n",
    "En cuanto a la estimación de amplitud todas las ventanas mostraron un sesgo negativo considerable, confirmando la teoría de que el ventaneo atenúa la energía de la señal en el dominio temporal, lo que se traduce en una subestimación de la amplitud real. En el caso de la ventana Flattop, demostró ser superior para este estimador, presentando la varianza más baja, lo que indica que sus estimaciones son más estables entre las 200 realizaciones. Esto es consistente con su diseño, optimizado para minimizar el error de estimación de amplitud. \n",
    "Luego, en cuanto a la estimación de frecuencia, las estimaciones exhibieron sesgos y varianzas elevados. Estos errores se atribuyen principalmente a la limitación inherente de la resolución discreta de la FFT y la forma espectral de la ventana, más que el ruido en sí, dado que el error no se redujo sustancialmente al pasar de 3 dB a 10 dB de SNR. \n",
    "\n",
    "Por último, con los puntos bonus se analizaron las técnicas de mejora para superar las limitaciones de la FFT. Por un lado, el estimador alternativo de amplitud(integración de energía). Este consideró la energía de un rango de bins espectrales en lugar de solo el pico, con esto se logró reducir notablemente el sesgo y la varianza en comparación con el estimador básico. Esto se debe a que se integra parte de la energía perdida por la fuga espectral. Por otro lado, el zero-padding y la interpolación cuadrática. Aunque el primero solo interpole el espectro, la técnica de interpolación cuadrática permite refinar la localización del pico al aproximar la forma parabólica del lóbulo principal, lo que mejora la precisión respecto a la simple selección del índice máximo del bin. \n",
    "\n",
    "En conclusión, el estudio confirma que la elección de la ventana debe alinearse con el parámetro de interés(Flattop para amplitud, Rectangular o compromisos para resolución de frecuencia). Además, se valida la necesidad de emplear técnicas de post-procesamiento espectral para obtener estimaciones de parámetros robustas y reducir el error sistemático causado por las propiedades intrínsecas del análisis directo y la discretización de la frecuencia. "
   ]
  },
  {
   "cell_type": "markdown",
   "id": "d1a4572d-0ffc-4c9b-95c0-b2807bae8c3d",
   "metadata": {},
   "source": [
    "## Autoevaluación del aprendizaje"
   ]
  },
  {
   "cell_type": "markdown",
   "id": "e030f83a-de2f-452a-98ad-39a39af8396c",
   "metadata": {},
   "source": [
    "Este trabajo fue realizado completamente en conjunto, ya que somos amigas y nos juntamos para poder hacerlo. Por ende, está escrito por ambas. \n",
    "Consideramos que comprendimos ampliamente los conceptos de esta tarea. Fue de gran utilidad todas las clases que tuvimos para poder realizarla. \n",
    "Hemos usado inteligencia artificial para emprolijar el código y corregir algún error que haya surgido pero mayormente fue realizado en clase."
   ]
  }
 ],
 "metadata": {
  "kernelspec": {
   "display_name": "Python 3 (ipykernel)",
   "language": "python",
   "name": "python3"
  },
  "language_info": {
   "codemirror_mode": {
    "name": "ipython",
    "version": 3
   },
   "file_extension": ".py",
   "mimetype": "text/x-python",
   "name": "python",
   "nbconvert_exporter": "python",
   "pygments_lexer": "ipython3",
   "version": "3.13.5"
  }
 },
 "nbformat": 4,
 "nbformat_minor": 5
}
